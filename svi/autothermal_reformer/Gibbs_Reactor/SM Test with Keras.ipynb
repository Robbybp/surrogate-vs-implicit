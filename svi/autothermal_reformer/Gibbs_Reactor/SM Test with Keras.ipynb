{
 "cells": [
  {
   "cell_type": "markdown",
   "id": "452d10e2",
   "metadata": {},
   "source": [
    "# SM Test"
   ]
  },
  {
   "cell_type": "code",
   "execution_count": 1,
   "id": "cbd9a11e",
   "metadata": {
    "scrolled": true
   },
   "outputs": [
    {
     "name": "stdout",
     "output_type": "stream",
     "text": [
      "xdata saved\n",
      "[455.167495 542.922493 402.441282 594.515916 583.249014 472.171873\n",
      " 580.81366  429.030996 471.950256 584.782015 534.227068 457.419509\n",
      " 544.631616 597.09826  476.072102 410.063655 528.067143 426.405401\n",
      " 490.68621  440.67404  579.415001 433.00729  566.052401 524.953247\n",
      " 549.159396 486.211196 404.952822 409.029795 505.363452 555.263832\n",
      " 431.690536 434.090532 518.323796 526.29058  586.367698 551.532478\n",
      " 469.940992 485.344657 553.102761 458.636081 451.17492  425.847721\n",
      " 474.333033 494.140585 460.591719 517.354206 415.437731 592.803706\n",
      " 445.728079 540.077633 447.443748 509.481944 418.711313 507.987936\n",
      " 511.383683 539.477234 438.930289 478.165333 571.456003 572.317721\n",
      " 598.605333 437.982122 499.916491 488.239232 514.582892 423.914634\n",
      " 574.869642 513.54586  565.544642 417.079854 501.560053 482.124429\n",
      " 448.329323 521.271411 467.638428 523.826151 533.457928 547.937899\n",
      " 589.922318 463.233508 453.658155 502.056256 531.847877 591.564552\n",
      " 537.408469 413.365693 480.097803 557.950316 497.326393 558.418392\n",
      " 407.970541 420.135274 569.856699 400.844208 442.747226 464.967533\n",
      " 493.671037 562.611329 576.663542 561.041465 400.844208 598.605333]\n"
     ]
    }
   ],
   "source": [
    "# Import Gibbs reactor data\n",
    "\n",
    "import pandas as pd\n",
    "import numpy as np\n",
    "np.set_printoptions(precision=6, suppress=True)\n",
    "\n",
    "v2 = 0 # if set to 1, ALAMOPY will fit to custom multivariable function and PySMO will fit to multivariable poly function\n",
    "if v2 ==1:\n",
    "    data = pd.read_excel(r'..\\Core-tasks-2.5\\Gibbs_surrogatesv2.xlsx')\n",
    "    data.columns = ['tag','set','result','time','solution_time','err','output_graph_error',\n",
    "                    'node_err_gibbs','turb_gibbs','input_gibbs_Tin','input_gibbs_Fin',\n",
    "                    'output_gibbs_heat_duty','Q_SM','Q_SM_%error','Q_SM2','Q_SM2_%error',\n",
    "                    'output_gibbs_H2','output_gibbs_H2O','output_gibbs_CO2','output_gibbs_CO',\n",
    "                    'output_gibbs_N2','output_gibbs_Tout','output_gibbs_Fout','Fout_SM','mol_F_sum']\n",
    "    x1input = data.input_gibbs_Fin\n",
    "    x2input = data.input_gibbs_Tin\n",
    "    xinput = pd.concat([x1input,x2input],axis=1)\n",
    "    zoutput = data.output_gibbs_heat_duty\n",
    "else: # otherwise, ALAMOPY and PySMO will both fit to 3rd order poly functions\n",
    "    data = pd.read_excel(r'..\\Core-tasks-2.5\\Gibbs_reactor_surrogates.xlsx')\n",
    "    data.columns = ['tag','set','result','time','solution_time','err','output_graph_error',\n",
    "                          'node_err_gibbs','turb_gibbs','input_gibbs_Tin','input_gibbs_Fin',\n",
    "                           'output_gibbs_heat_duty','output_gibbs_H2','H2_SM','output_gibbs_H2O',\n",
    "                          'H2O_SM','output_gibbs_CO2','CO2_SM','output_gibbs_CO','CO_SM',\n",
    "                          'output_gibbs_N2','N2_SM','output_gibbs_Tout','Tout_SM']\n",
    "    xinput = data.input_gibbs_Tin\n",
    "    zoutput = data.output_gibbs_H2\n",
    "\n",
    "#    print(data) # takes up a lot of space if uncommented\n",
    "x = np.array(xinput)\n",
    "z = np.array(zoutput)\n",
    "print('xdata saved') # check that the input array was constructed correctly\n",
    "print(x)"
   ]
  },
  {
   "cell_type": "code",
   "execution_count": 2,
   "id": "8d8d1d6a",
   "metadata": {},
   "outputs": [
    {
     "name": "stdout",
     "output_type": "stream",
     "text": [
      "Starting trials, printing every 25  trials:\n",
      "Training trial number  25\n",
      "Training trial number  50\n",
      "Training trial number  75\n",
      "Training trial number  100\n",
      "Training trial number  125\n",
      "Training trial number  150\n",
      "Training trial number  175\n",
      "Training trial number  200\n",
      "Training trial number  225\n",
      "Training trial number  250\n",
      "Training trial number  275\n",
      "Training trial number  300\n",
      "Training trial number  325\n",
      "Training trial number  350\n",
      "Training trial number  375\n",
      "Training trial number  400\n",
      "Training trial number  425\n",
      "Training trial number  450\n",
      "Training trial number  475\n",
      "Training trial number  500\n",
      "(4,)\n"
     ]
    }
   ],
   "source": [
    "# Train Gibbs reactor data with TensorFlow/Keras\n",
    "\n",
    "from tensorflow.keras.layers import Input, Dense\n",
    "from tensorflow.keras.models import Model\n",
    "from tensorflow.keras.optimizers import Adam as opt\n",
    "from tensorflow.keras.metrics import RootMeanSquaredError\n",
    "from sklearn.preprocessing import PolynomialFeatures\n",
    "\n",
    "# rescale data to avoid potential training issues\n",
    "trX = x/max(x)\n",
    "trY = z/max(z)\n",
    "\n",
    "n = 3 # seeking 3rd order polynomial\n",
    "trX_expanded = np.expand_dims(trX, axis=1)\n",
    "poly = PolynomialFeatures(n)\n",
    "trX_expanded = poly.fit_transform(trX_expanded)\n",
    "\n",
    "inp = Input((n+1)) # 4 features, x^3 x^2 x constant\n",
    "out = Dense(1)(inp)\n",
    "model = Model(inputs=inp, outputs=out)\n",
    "model.compile(optimizer=opt(learning_rate=1e-3), loss=\"mean_squared_error\")\n",
    "#print(trX)\n",
    "#print(trX_expanded)\n",
    "trials = 500\n",
    "\n",
    "c1 = []\n",
    "c2 = []\n",
    "c3 = []\n",
    "c4 = []\n",
    "c_list = []\n",
    "increment = 25\n",
    "print('Starting trials, printing every', increment, ' trials:')\n",
    "for i in range(0,trials):\n",
    "    if ((i+1) % increment == 0):\n",
    "        print('Training trial number ', i+1)\n",
    "    model.fit(trX_expanded, trY, epochs=500, verbose=0)\n",
    "    c_list = opt.get_weights(model)[0]\n",
    "    c1.append(c_list[0])\n",
    "    c2.append(c_list[1])\n",
    "    c3.append(c_list[2])\n",
    "    c4.append(c_list[3])\n",
    "\n",
    "c_scaled = [np.average(c1), np.average(c2), np.average(c3), np.average(c4)]\n",
    "\n",
    "c = [c_scaled[j]*max(z)/((max(x))**(len(c_scaled)-1-j)) for j in range(0,len(c_scaled))]\n",
    "\n",
    "print(np.shape(c))"
   ]
  },
  {
   "cell_type": "code",
   "execution_count": 3,
   "id": "10882dc9",
   "metadata": {},
   "outputs": [
    {
     "name": "stdout",
     "output_type": "stream",
     "text": [
      "Model: \"model\"\n",
      "_________________________________________________________________\n",
      "Layer (type)                 Output Shape              Param #   \n",
      "=================================================================\n",
      "input_1 (InputLayer)         [(None, 4)]               0         \n",
      "_________________________________________________________________\n",
      "dense (Dense)                (None, 1)                 5         \n",
      "=================================================================\n",
      "Total params: 5\n",
      "Trainable params: 5\n",
      "Non-trainable params: 0\n",
      "_________________________________________________________________\n",
      "None\n",
      "The RMSE is  0.0\n",
      "\n",
      "Coefficient values:\n",
      "Scaled: [0.5288213, -0.37146467, 0.91121274, -0.49624035]\n",
      "Actual: [8.451125881370531e-10, -3.5535606769156233e-07, 0.0005218030188106224, -0.17010593134018467]\n"
     ]
    },
    {
     "data": {
      "text/plain": [
       "[<matplotlib.lines.Line2D at 0x14a38310130>]"
      ]
     },
     "execution_count": 3,
     "metadata": {},
     "output_type": "execute_result"
    },
    {
     "data": {
      "image/png": "[encoded data removed]",
      "text/plain": [
       "<Figure size 432x288 with 1 Axes>"
      ]
     },
     "metadata": {
      "needs_background": "light"
     },
     "output_type": "display_data"
    }
   ],
   "source": [
    "# TensorFlow/Keras results\n",
    "\n",
    "import matplotlib.pyplot as plt\n",
    "\n",
    "print(model.summary())\n",
    "rsme = RootMeanSquaredError()\n",
    "print('The RMSE is ', rsme.result().numpy())\n",
    "print()\n",
    "\n",
    "print('Coefficient values:')\n",
    "print('Scaled:',c_scaled)\n",
    "print('Actual:',c)\n",
    "\n",
    "fig, ax = plt.subplots()\n",
    "ax.scatter(trX, trY)\n",
    "ax.plot(trX, model.predict(trX_expanded), color = \"red\")"
   ]
  },
  {
   "cell_type": "code",
   "execution_count": 4,
   "id": "68a2ed4a",
   "metadata": {},
   "outputs": [
    {
     "ename": "FileNotFoundError",
     "evalue": "[Errno 2] No such file or directory: 'Gibbs.lst'",
     "output_type": "error",
     "traceback": [
      "\u001b[1;31m---------------------------------------------------------------------------\u001b[0m",
      "\u001b[1;31mFileNotFoundError\u001b[0m                         Traceback (most recent call last)",
      "\u001b[1;32m~\\AppData\\Local\\Temp/ipykernel_77820/2357414977.py\u001b[0m in \u001b[0;36m<module>\u001b[1;34m\u001b[0m\n\u001b[0;32m      9\u001b[0m \u001b[1;31m#alamopy.almconfidence(result)\u001b[0m\u001b[1;33m\u001b[0m\u001b[1;33m\u001b[0m\u001b[1;33m\u001b[0m\u001b[0m\n\u001b[0;32m     10\u001b[0m \u001b[1;33m\u001b[0m\u001b[0m\n\u001b[1;32m---> 11\u001b[1;33m \u001b[0mf\u001b[0m \u001b[1;33m=\u001b[0m \u001b[0mopen\u001b[0m\u001b[1;33m(\u001b[0m\u001b[1;34m'Gibbs.lst'\u001b[0m\u001b[1;33m,\u001b[0m\u001b[1;34m'r'\u001b[0m\u001b[1;33m)\u001b[0m\u001b[1;33m\u001b[0m\u001b[1;33m\u001b[0m\u001b[0m\n\u001b[0m\u001b[0;32m     12\u001b[0m \u001b[0mstatistics\u001b[0m \u001b[1;33m=\u001b[0m \u001b[0mf\u001b[0m\u001b[1;33m.\u001b[0m\u001b[0mread\u001b[0m\u001b[1;33m(\u001b[0m\u001b[1;33m)\u001b[0m\u001b[1;33m\u001b[0m\u001b[1;33m\u001b[0m\u001b[0m\n\u001b[0;32m     13\u001b[0m \u001b[0mprint\u001b[0m\u001b[1;33m(\u001b[0m\u001b[0mstatistics\u001b[0m\u001b[1;33m)\u001b[0m\u001b[1;33m\u001b[0m\u001b[1;33m\u001b[0m\u001b[0m\n",
      "\u001b[1;31mFileNotFoundError\u001b[0m: [Errno 2] No such file or directory: 'Gibbs.lst'"
     ]
    }
   ],
   "source": [
    "# Train Gibbs reactor data with ALAMOPY\n",
    "\n",
    "from idaes.surrogate import alamopy\n",
    "if v2 == 1:\n",
    "    result = alamopy.doalamo(x,z,almname='Gibbs2var',multi2power=(1),ratiopower=(1),linfcns=0,constant=0,expandoutput=True)\n",
    "    print('ok')\n",
    "else:\n",
    "    result = alamopy.doalamo(x,z,almname='Gibbs1var',xmin=(400),xmax=(600),monomialpower=(2,3),expandoutput=True)\n",
    "#alamopy.almconfidence(result)\n",
    "\n",
    "f = open('Gibbs.lst','r')\n",
    "statistics = f.read()\n",
    "print(statistics)\n",
    "f.close()"
   ]
  },
  {
   "cell_type": "code",
   "execution_count": null,
   "id": "fb36f3e0",
   "metadata": {},
   "outputs": [],
   "source": [
    "# ALAMOPY results\n",
    "\n",
    "print('See end of output above for calculation statistics')\n",
    "print('Model: {}'.format(result['model']))\n",
    "#print('Confidence Intervals : {}'.format(conf_inv['conf_inv']))\n",
    "alamopy.almplot(result)"
   ]
  },
  {
   "cell_type": "code",
   "execution_count": null,
   "id": "c9b55e4c",
   "metadata": {
    "scrolled": true
   },
   "outputs": [],
   "source": [
    "# Train Gibbs reactor data with PySMO\n",
    "\n",
    "from idaes.surrogate.pysmo.polynomial_regression import PolynomialRegression\n",
    "\n",
    "xy_data = pd.concat([xinput,zoutput],axis=1)\n",
    "print(xy_data)\n",
    "print(type(xy_data))\n",
    "\n",
    "poly_class = PolynomialRegression(original_data_input=xy_data, regression_data_input=xy_data, maximum_polynomial_order=3,\n",
    "                                  multinomials=1, training_split=0.8, number_of_crossvalidations=10, overwrite=True)\n",
    "features = poly_class.get_feature_vector()\n",
    "poly_fit = poly_class.training()\n"
   ]
  },
  {
   "cell_type": "code",
   "execution_count": null,
   "id": "ba326a71",
   "metadata": {},
   "outputs": [],
   "source": [
    "# PySMO Results\n",
    "\n",
    "print('See end of output above for calculation statistics')\n",
    "\n",
    "list_vars = []\n",
    "for i in features.keys():\n",
    "    list_vars.append(features[i])\n",
    "\n",
    "print(poly_fit.generate_expression(list_vars))\n",
    "poly_fit.parity_residual_plots()\n",
    "conf_int = PolynomialRegression.confint_regression(poly_fit, confidence=0.95)"
   ]
  },
  {
   "cell_type": "code",
   "execution_count": null,
   "id": "9da008dd",
   "metadata": {},
   "outputs": [],
   "source": [
    "# Comparing the two model equations; note, they won't match for multivariable since the ALAMOPY form is different\n",
    "\n",
    "print('Keras gave the following fit:')\n",
    "print('z = ', c[0], 'x^3 + ', c[1], 'x^2 + ', c[2], 'x + ', c[3])\n",
    "print()\n",
    "\n",
    "print('ALAMOPY gave the following fit:')\n",
    "print('Model: {}'.format(result['model']))\n",
    "print()\n",
    "\n",
    "print('PySMO gave the following fit:')\n",
    "print(poly_fit.generate_expression(list_vars))"
   ]
  },
  {
   "cell_type": "code",
   "execution_count": null,
   "id": "1c4c80c0",
   "metadata": {},
   "outputs": [],
   "source": []
  }
 ],
 "metadata": {
  "kernelspec": {
   "display_name": "Python 3 (ipykernel)",
   "language": "python",
   "name": "python3"
  },
  "language_info": {
   "codemirror_mode": {
    "name": "ipython",
    "version": 3
   },
   "file_extension": ".py",
   "mimetype": "text/x-python",
   "name": "python",
   "nbconvert_exporter": "python",
   "pygments_lexer": "ipython3",
   "version": "3.8.5"
  }
 },
 "nbformat": 4,
 "nbformat_minor": 5
}
